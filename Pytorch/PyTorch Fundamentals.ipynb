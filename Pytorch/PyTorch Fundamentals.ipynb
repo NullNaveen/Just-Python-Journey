{
 "cells": [
  {
   "cell_type": "code",
   "execution_count": null,
   "id": "f0074860-fedf-4624-b7de-8f886f81bf32",
   "metadata": {},
   "outputs": [],
   "source": []
  }
 ],
 "metadata": {
  "kernelspec": {
   "display_name": "Python 3 (ipykernel)",
   "language": "python",
   "name": "python3"
  },
  "language_info": {
   "codemirror_mode": {
    "name": "ipython",
    "version": 3
   },
   "file_extension": ".py",
   "mimetype": "text/x-python",
   "name": "python",
   "nbconvert_exporter": "python",
   "pygments_lexer": "ipython3",
   "version": "3.12.4"
  },
  "panel-cell-order": [
   "c65f6b51-1763-47f5-88c5-b4cd7e2ad6e5"
  ]
 },
 "nbformat": 4,
 "nbformat_minor": 5
}
