{
 "cells": [
  {
   "cell_type": "code",
   "execution_count": 1,
   "id": "78aad958-b84a-48d3-8a0a-b5849ae98b18",
   "metadata": {},
   "outputs": [],
   "source": [
    "import numpy as np"
   ]
  },
  {
   "cell_type": "code",
   "execution_count": 3,
   "id": "f29e2c93-566d-4233-ace4-9f28ae4e12d7",
   "metadata": {},
   "outputs": [],
   "source": [
    "a = np.array([34,54,36,16])"
   ]
  },
  {
   "cell_type": "code",
   "execution_count": 9,
   "id": "13afc43e-3bcf-4f8b-8865-14dc112e964d",
   "metadata": {},
   "outputs": [
    {
     "data": {
      "text/plain": [
       "dtype('int32')"
      ]
     },
     "execution_count": 9,
     "metadata": {},
     "output_type": "execute_result"
    }
   ],
   "source": [
    "a.dtype"
   ]
  },
  {
   "cell_type": "code",
   "execution_count": 13,
   "id": "f6d5c418-c0a6-4a9e-af0c-293c62d6f2f2",
   "metadata": {},
   "outputs": [
    {
     "data": {
      "text/plain": [
       "(4,)"
      ]
     },
     "execution_count": 13,
     "metadata": {},
     "output_type": "execute_result"
    }
   ],
   "source": [
    "a.shape"
   ]
  },
  {
   "cell_type": "code",
   "execution_count": 17,
   "id": "cfe51ed2-a0df-47ca-adb3-d1c80e708ed9",
   "metadata": {},
   "outputs": [
    {
     "data": {
      "text/plain": [
       "dtype('int32')"
      ]
     },
     "execution_count": 17,
     "metadata": {},
     "output_type": "execute_result"
    }
   ],
   "source": [
    "a2d = np.array([\n",
    "    [1,2,3],\n",
    "    [4,5,6]\n",
    "])\n",
    "\n",
    "a2d.dtype"
   ]
  },
  {
   "cell_type": "code",
   "execution_count": 19,
   "id": "78505eb5-d71d-4599-8915-a8eb5379d41b",
   "metadata": {},
   "outputs": [
    {
     "data": {
      "text/plain": [
       "(2, 3)"
      ]
     },
     "execution_count": 19,
     "metadata": {},
     "output_type": "execute_result"
    }
   ],
   "source": [
    "a2d.shape"
   ]
  },
  {
   "cell_type": "code",
   "execution_count": 55,
   "id": "c3b56769-0b67-4f00-9397-223a43c89c49",
   "metadata": {},
   "outputs": [
    {
     "name": "stdout",
     "output_type": "stream",
     "text": [
      "zeros:\n",
      " [[0. 0. 0.]\n",
      " [0. 0. 0.]\n",
      " [0. 0. 0.]]\n",
      "ones:\n",
      " [[1. 1. 1. 1.]\n",
      " [1. 1. 1. 1.]]\n",
      "ones:\n",
      " [1. 1. 1. 1. 1.]\n",
      "eye:\n",
      " [[1. 0. 0. 0.]\n",
      " [0. 1. 0. 0.]\n",
      " [0. 0. 1. 0.]\n",
      " [0. 0. 0. 1.]]\n",
      "full:\n",
      " [[7 7]\n",
      " [7 7]]\n",
      "random:\n",
      " [[0.21259177 0.00293283 0.07667127]\n",
      " [0.35679042 0.46109438 0.82303641]\n",
      " [0.13329293 0.34999775 0.20770929]]\n"
     ]
    }
   ],
   "source": [
    "print(\"zeros:\\n\", np.zeros((3, 3)))    # 3x3 matrix of zeros\n",
    "print('ones:\\n',np.ones((2, 4)))   # 2x4 matrix of ones\n",
    "print(\"ones:\\n\", np.ones(5))   # 2x4 matrix of ones\n",
    "print(\"eye:\\n\", np.eye(4))           # 4x4 identity matrix\n",
    "print(\"full:\\n\", np.full((2, 2), 7))  # 2x2 matrix filled with 7\n",
    "print(\"random:\\n\", np.random.rand(3, 3)) # 3x3 matrix with random numbers\n"
   ]
  },
  {
   "cell_type": "code",
   "execution_count": 25,
   "id": "fd3d75f5-4748-429c-91c3-009ed6df7af3",
   "metadata": {},
   "outputs": [
    {
     "name": "stdout",
     "output_type": "stream",
     "text": [
      "(2, 3)\n",
      "6\n",
      "int32\n",
      "2\n"
     ]
    }
   ],
   "source": [
    "arr = np.array([[1, 2, 3], [4, 5, 6]])\n",
    "\n",
    "print(arr.shape)  # (2, 3) - shape of the array\n",
    "print(arr.size)   # 6 - total elements\n",
    "print(arr.dtype)  # int32 or int64 - data type\n",
    "print(arr.ndim)   # 2 - number of dimensions"
   ]
  },
  {
   "cell_type": "code",
   "execution_count": 27,
   "id": "63ee6cc5-a3a6-4a9c-8864-1dfc02390646",
   "metadata": {},
   "outputs": [
    {
     "data": {
      "text/plain": [
       "array([2.12199579e-314, 4.67296746e-307, 3.16202013e-321, 6.95293141e-310,\n",
       "       1.71740612e+161])"
      ]
     },
     "execution_count": 27,
     "metadata": {},
     "output_type": "execute_result"
    }
   ],
   "source": [
    "np.empty(5)"
   ]
  },
  {
   "cell_type": "code",
   "execution_count": 57,
   "id": "31ae3ada-833a-47dd-84d6-4fda2440c4ec",
   "metadata": {},
   "outputs": [
    {
     "name": "stdout",
     "output_type": "stream",
     "text": [
      "2\n",
      "5\n"
     ]
    }
   ],
   "source": [
    "ar = np.array([1,2,3,4,5])\n",
    "print(ar[1])\n",
    "print(ar[-1])"
   ]
  },
  {
   "cell_type": "code",
   "execution_count": 65,
   "id": "ff03280a-b633-49dd-91b9-024df980aea0",
   "metadata": {},
   "outputs": [
    {
     "data": {
      "text/plain": [
       "array([[1, 2, 3],\n",
       "       [4, 5, 6]])"
      ]
     },
     "execution_count": 65,
     "metadata": {},
     "output_type": "execute_result"
    }
   ],
   "source": [
    "arr"
   ]
  },
  {
   "cell_type": "code",
   "execution_count": 61,
   "id": "b2d80b43-7025-4c21-ba8f-3773752778c6",
   "metadata": {},
   "outputs": [
    {
     "name": "stdout",
     "output_type": "stream",
     "text": [
      "[4 5 6]\n",
      "[4 5 6]\n",
      "[1 2 3]\n",
      "[1 2 3]\n"
     ]
    }
   ],
   "source": [
    "print(arr[1])\n",
    "print(arr[-1])\n",
    "print(arr[0])\n",
    "print(arr[-2])"
   ]
  },
  {
   "cell_type": "code",
   "execution_count": 69,
   "id": "c2517093-3830-417b-870e-1f087d379738",
   "metadata": {},
   "outputs": [
    {
     "name": "stdout",
     "output_type": "stream",
     "text": [
      "6\n",
      "[2 5]\n"
     ]
    }
   ],
   "source": [
    "print(arr[1,2])\n",
    "print(arr[:,1])  #- all rows, 2nd column\n"
   ]
  },
  {
   "cell_type": "code",
   "execution_count": 73,
   "id": "4c52f175-a745-4558-83a5-702b364b70e3",
   "metadata": {},
   "outputs": [
    {
     "data": {
      "text/plain": [
       "array([1, 2, 3, 4, 5])"
      ]
     },
     "execution_count": 73,
     "metadata": {},
     "output_type": "execute_result"
    }
   ],
   "source": [
    "ar"
   ]
  },
  {
   "cell_type": "code",
   "execution_count": 71,
   "id": "a54c4ec2-3191-4967-b1fe-46e22f880b19",
   "metadata": {},
   "outputs": [
    {
     "name": "stdout",
     "output_type": "stream",
     "text": [
      "[2 3 4]\n"
     ]
    }
   ],
   "source": [
    "print(ar[1:4])"
   ]
  },
  {
   "cell_type": "code",
   "execution_count": 89,
   "id": "9273b813-e520-40ec-bd20-2033514eb8c7",
   "metadata": {},
   "outputs": [
    {
     "name": "stdout",
     "output_type": "stream",
     "text": [
      "[[4 5 6]]\n",
      "[[4 5 6]]\n",
      "[[4 5 6]]\n",
      "[[4 5 6]]\n",
      "[4 5 6]\n",
      "[[1 2 3]]\n",
      "[]\n",
      "[]\n"
     ]
    }
   ],
   "source": [
    "print(arr[1:3])\n",
    "print(arr[1:31])\n",
    "print(arr[1:])\n",
    "print(arr[1:100])\n",
    "print(arr[1])\n",
    "print(arr[:1])\n",
    "print(arr[2:1])\n",
    "print(arr[100:1])\n"
   ]
  },
  {
   "cell_type": "code",
   "execution_count": 93,
   "id": "26a0d1e3-27f5-4590-9409-097138dde7e0",
   "metadata": {},
   "outputs": [
    {
     "name": "stdout",
     "output_type": "stream",
     "text": [
      "1d\n",
      " [1 2 3 4 5]\n",
      "2d\n",
      " [[1 2 3]\n",
      " [4 5 6]]\n"
     ]
    }
   ],
   "source": [
    "print(\"1d\\n\",ar)\n",
    "print(\"2d\\n\",arr)"
   ]
  },
  {
   "cell_type": "code",
   "execution_count": 95,
   "id": "10cb2781-f7f5-491f-b705-e433ec1f1fa2",
   "metadata": {},
   "outputs": [
    {
     "data": {
      "text/plain": [
       "array([ 1,  2, 20,  4,  5])"
      ]
     },
     "execution_count": 95,
     "metadata": {},
     "output_type": "execute_result"
    }
   ],
   "source": [
    "ar[2] = 20\n",
    "ar"
   ]
  },
  {
   "cell_type": "code",
   "execution_count": 101,
   "id": "3707226b-1368-415c-9c4b-91ce7e3fb807",
   "metadata": {},
   "outputs": [
    {
     "data": {
      "text/plain": [
       "array([[1, 2, 3],\n",
       "       [4, 5, 6],\n",
       "       [7, 8, 9]])"
      ]
     },
     "execution_count": 101,
     "metadata": {},
     "output_type": "execute_result"
    }
   ],
   "source": [
    "new_array = np.arange(1,10).reshape(3,3)\n",
    "new_array"
   ]
  },
  {
   "cell_type": "code",
   "execution_count": 103,
   "id": "b11b59cb-5f76-4b65-8f41-8322bab5ed44",
   "metadata": {},
   "outputs": [
    {
     "data": {
      "text/plain": [
       "array([1, 2, 3, 4, 5, 6, 7, 8, 9])"
      ]
     },
     "execution_count": 103,
     "metadata": {},
     "output_type": "execute_result"
    }
   ],
   "source": [
    "new_array = np.arange(1,10)\n",
    "new_array"
   ]
  },
  {
   "cell_type": "code",
   "execution_count": 123,
   "id": "3faf19de-8c9b-4a2e-92eb-3f864df66fd8",
   "metadata": {},
   "outputs": [
    {
     "data": {
      "text/plain": [
       "array([[1, 2],\n",
       "       [3, 4]])"
      ]
     },
     "execution_count": 123,
     "metadata": {},
     "output_type": "execute_result"
    }
   ],
   "source": [
    "new_array = np.arange(1,5).reshape(2,2)\n",
    "new_array"
   ]
  },
  {
   "cell_type": "markdown",
   "id": "4cad86fa-624a-4c53-ac4b-8cc5140c0da0",
   "metadata": {},
   "source": [
    "array = np.arange(1,16).reshape(5,3)\n",
    "array               "
   ]
  },
  {
   "cell_type": "markdown",
   "id": "6eaad11d-b8c9-4817-9e2b-5bd7e442dad1",
   "metadata": {},
   "source": [
    "### array[start_row : end_row : step, start_column : end_column : step]\r\n"
   ]
  },
  {
   "cell_type": "code",
   "execution_count": 153,
   "id": "9610055f-7993-4ab4-9bed-cd6390015238",
   "metadata": {},
   "outputs": [
    {
     "name": "stdout",
     "output_type": "stream",
     "text": [
      "[[ 1  2  3]\n",
      " [ 4  5  6]\n",
      " [ 7  8  9]\n",
      " [10 11 12]\n",
      " [13 14 15]]\n"
     ]
    }
   ],
   "source": [
    "print(array[:,:])\n"
   ]
  },
  {
   "cell_type": "code",
   "execution_count": 155,
   "id": "100c1e05-367d-4d11-8701-31be5b10111b",
   "metadata": {},
   "outputs": [
    {
     "name": "stdout",
     "output_type": "stream",
     "text": [
      "[[ 4  5  6]\n",
      " [ 7  8  9]\n",
      " [10 11 12]\n",
      " [13 14 15]]\n"
     ]
    }
   ],
   "source": [
    "print(array[1:,:])"
   ]
  },
  {
   "cell_type": "code",
   "execution_count": 161,
   "id": "495cc407-a375-4df5-bb84-03e9c27ad123",
   "metadata": {},
   "outputs": [
    {
     "data": {
      "text/plain": [
       "array([ 1,  2, 20,  4,  5])"
      ]
     },
     "execution_count": 161,
     "metadata": {},
     "output_type": "execute_result"
    }
   ],
   "source": [
    "ar"
   ]
  },
  {
   "cell_type": "code",
   "execution_count": 165,
   "id": "349838ee-50fc-46fd-a9e4-70683434ad96",
   "metadata": {},
   "outputs": [
    {
     "name": "stdout",
     "output_type": "stream",
     "text": [
      "[11 12 30 14 15]\n"
     ]
    }
   ],
   "source": [
    "print(ar + 10)"
   ]
  },
  {
   "cell_type": "code",
   "execution_count": 167,
   "id": "1598e23d-9f7e-435b-9ce4-aaa9f06002f2",
   "metadata": {},
   "outputs": [
    {
     "data": {
      "text/plain": [
       "array([ 2,  4, 40,  8, 10])"
      ]
     },
     "execution_count": 167,
     "metadata": {},
     "output_type": "execute_result"
    }
   ],
   "source": [
    "ar * 2"
   ]
  },
  {
   "cell_type": "code",
   "execution_count": 169,
   "id": "28255998-c236-4dec-b85f-b1b7d3867f1b",
   "metadata": {},
   "outputs": [
    {
     "name": "stdout",
     "output_type": "stream",
     "text": [
      "[ 2  4 40  8 10]\n"
     ]
    }
   ],
   "source": [
    "print(ar * 2)"
   ]
  },
  {
   "cell_type": "code",
   "execution_count": 175,
   "id": "0fa03150-7821-4fa1-bb66-ff55065b14aa",
   "metadata": {},
   "outputs": [
    {
     "name": "stdout",
     "output_type": "stream",
     "text": [
      "[[ 0.84147098  0.90929743  0.14112001]\n",
      " [-0.7568025  -0.95892427 -0.2794155 ]]\n"
     ]
    }
   ],
   "source": [
    "print(np.sin(arr))"
   ]
  },
  {
   "cell_type": "code",
   "execution_count": 187,
   "id": "204cfb27-1255-4e41-a46d-9fd0f8f595c8",
   "metadata": {},
   "outputs": [
    {
     "name": "stdout",
     "output_type": "stream",
     "text": [
      "[5 7 9]\n"
     ]
    }
   ],
   "source": [
    "arr1 = np.array([1, 2, 3])\n",
    "arr2 = np.array([4, 5, 6])\n",
    "print(arr1 + arr2)  # [5 7 9]\n"
   ]
  },
  {
   "cell_type": "code",
   "execution_count": 189,
   "id": "ae0f4b67-936f-4300-b122-e8e034c8a27c",
   "metadata": {},
   "outputs": [
    {
     "name": "stdout",
     "output_type": "stream",
     "text": [
      "[1 2 3]\n",
      "[4 5 6]\n"
     ]
    },
    {
     "data": {
      "text/plain": [
       "array([False, False, False])"
      ]
     },
     "execution_count": 189,
     "metadata": {},
     "output_type": "execute_result"
    }
   ],
   "source": [
    "print(arr1)\n",
    "print(arr2)\n",
    "arr1 == arr2"
   ]
  },
  {
   "cell_type": "code",
   "execution_count": 197,
   "id": "1a7f9412-f7b1-4876-9db7-da215e8d889b",
   "metadata": {},
   "outputs": [
    {
     "data": {
      "text/plain": [
       "array([3])"
      ]
     },
     "execution_count": 197,
     "metadata": {},
     "output_type": "execute_result"
    }
   ],
   "source": [
    "arr1[arr1 > 2]"
   ]
  },
  {
   "cell_type": "code",
   "execution_count": 199,
   "id": "65cf409c-34b9-4a8b-a8c1-fb6917a9c1dd",
   "metadata": {},
   "outputs": [
    {
     "name": "stdout",
     "output_type": "stream",
     "text": [
      "[2 3]\n"
     ]
    }
   ],
   "source": [
    "print(arr1[arr1 >= 2])"
   ]
  },
  {
   "cell_type": "code",
   "execution_count": 209,
   "id": "c21479c8-884b-41fc-9d30-fd94259e2140",
   "metadata": {},
   "outputs": [
    {
     "data": {
      "text/plain": [
       "array([1, 1])"
      ]
     },
     "execution_count": 209,
     "metadata": {},
     "output_type": "execute_result"
    }
   ],
   "source": [
    "np.diff(arr1)"
   ]
  },
  {
   "cell_type": "code",
   "execution_count": 211,
   "id": "7194fba3-ed13-4678-a49c-0b85b76a5e8d",
   "metadata": {},
   "outputs": [
    {
     "data": {
      "text/plain": [
       "array([0])"
      ]
     },
     "execution_count": 211,
     "metadata": {},
     "output_type": "execute_result"
    }
   ],
   "source": [
    "np.diff(arr1,2)"
   ]
  },
  {
   "cell_type": "code",
   "execution_count": 205,
   "id": "c81fcf02-1b16-426a-a61c-4babb5edf3c3",
   "metadata": {},
   "outputs": [
    {
     "name": "stdout",
     "output_type": "stream",
     "text": [
      "21\n",
      "3.5\n",
      "6\n",
      "1\n",
      "1.707825127659933\n"
     ]
    }
   ],
   "source": [
    "arr = np.array([[1, 2, 3], [4, 5, 6]])\n",
    "print(np.sum(arr))    # 21\n",
    "print(np.mean(arr))   # 3.5\n",
    "print(np.max(arr))    # 6\n",
    "print(np.min(arr))    # 1\n",
    "print(np.std(arr))    # Standard deviation\n"
   ]
  },
  {
   "cell_type": "code",
   "execution_count": 213,
   "id": "45f3141a-4e1e-4b40-94b3-0e65225620d8",
   "metadata": {},
   "outputs": [
    {
     "name": "stdout",
     "output_type": "stream",
     "text": [
      "[[1 2 3]\n",
      " [4 5 6]]\n",
      "[1 2 3 4 5 6]\n"
     ]
    }
   ],
   "source": [
    "a = np.array([1, 2, 3])\n",
    "b = np.array([4, 5, 6])\n",
    "\n",
    "print(np.vstack((a, b)))  # Vertical stack\n",
    "print(np.hstack((a, b)))  # Horizontal stack\n"
   ]
  },
  {
   "cell_type": "code",
   "execution_count": 217,
   "id": "72c7292b-7ba0-4849-91e4-e1fc98eac407",
   "metadata": {},
   "outputs": [
    {
     "data": {
      "text/plain": [
       "array([[1, 2, 3],\n",
       "       [4, 5, 6]])"
      ]
     },
     "execution_count": 217,
     "metadata": {},
     "output_type": "execute_result"
    }
   ],
   "source": [
    "np.vstack((a,b))"
   ]
  },
  {
   "cell_type": "code",
   "execution_count": 219,
   "id": "2a6bcfa2-749a-46e5-8290-7c34211abe68",
   "metadata": {},
   "outputs": [
    {
     "data": {
      "text/plain": [
       "array([1, 2, 3, 4, 5, 6])"
      ]
     },
     "execution_count": 219,
     "metadata": {},
     "output_type": "execute_result"
    }
   ],
   "source": [
    "np.hstack((a,b))"
   ]
  },
  {
   "cell_type": "code",
   "execution_count": 223,
   "id": "c8b784d0-991b-455d-a613-31e80ff1b8cb",
   "metadata": {},
   "outputs": [
    {
     "name": "stdout",
     "output_type": "stream",
     "text": [
      "[array([1, 2]), array([3, 4]), array([5, 6])]\n"
     ]
    }
   ],
   "source": [
    "arr = np.array([1, 2, 3, 4, 5, 6])\n",
    "print(np.split(arr, 3))  # Split into 3 parts\n"
   ]
  },
  {
   "cell_type": "code",
   "execution_count": 225,
   "id": "86267c66-7180-496a-ab20-502f1b1f152c",
   "metadata": {},
   "outputs": [
    {
     "data": {
      "text/plain": [
       "[array([1, 2, 3]), array([4, 5, 6])]"
      ]
     },
     "execution_count": 225,
     "metadata": {},
     "output_type": "execute_result"
    }
   ],
   "source": [
    "np.split(arr,2)"
   ]
  },
  {
   "cell_type": "code",
   "execution_count": 233,
   "id": "cdf0732d-89f7-4137-b3ea-8642c2cbed7c",
   "metadata": {},
   "outputs": [
    {
     "data": {
      "text/plain": [
       "array([], dtype=int32)"
      ]
     },
     "execution_count": 233,
     "metadata": {},
     "output_type": "execute_result"
    }
   ],
   "source": [
    "np.diff(arr, 10)"
   ]
  },
  {
   "cell_type": "code",
   "execution_count": 235,
   "id": "9c127da6-4324-406a-9804-40c680feec60",
   "metadata": {},
   "outputs": [
    {
     "name": "stdout",
     "output_type": "stream",
     "text": [
      "[[19 22]\n",
      " [43 50]]\n",
      "[[-2.   1. ]\n",
      " [ 1.5 -0.5]]\n"
     ]
    }
   ],
   "source": [
    "A = np.array([[1, 2], [3, 4]])\n",
    "B = np.array([[5, 6], [7, 8]])\n",
    "\n",
    "print(np.dot(A, B))  # Matrix multiplication\n",
    "print(np.linalg.inv(A))  # Inverse of matrix A\n"
   ]
  }
 ],
 "metadata": {
  "kernelspec": {
   "display_name": "Python 3 (ipykernel)",
   "language": "python",
   "name": "python3"
  },
  "language_info": {
   "codemirror_mode": {
    "name": "ipython",
    "version": 3
   },
   "file_extension": ".py",
   "mimetype": "text/x-python",
   "name": "python",
   "nbconvert_exporter": "python",
   "pygments_lexer": "ipython3",
   "version": "3.12.4"
  }
 },
 "nbformat": 4,
 "nbformat_minor": 5
}
