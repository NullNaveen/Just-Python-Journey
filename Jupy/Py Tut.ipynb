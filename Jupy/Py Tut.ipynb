{
 "cells": [
  {
   "cell_type": "code",
   "execution_count": 4,
   "id": "c404c744-6967-4d03-9be1-c49cc5400b96",
   "metadata": {},
   "outputs": [
    {
     "name": "stdout",
     "output_type": "stream",
     "text": [
      "Welcome to Python 3.12's help utility! If this is your first time using\n",
      "Python, you should definitely check out the tutorial at\n",
      "https://docs.python.org/3.12/tutorial/.\n",
      "\n",
      "Enter the name of any module, keyword, or topic to get help on writing\n",
      "Python programs and using Python modules.  To get a list of available\n",
      "modules, keywords, symbols, or topics, enter \"modules\", \"keywords\",\n",
      "\"symbols\", or \"topics\".\n",
      "\n",
      "Each module also comes with a one-line summary of what it does; to list\n",
      "the modules whose name or summary contain a given string such as \"spam\",\n",
      "enter \"modules spam\".\n",
      "\n",
      "To quit this help utility and return to the interpreter,\n",
      "enter \"q\" or \"quit\".\n",
      "\n"
     ]
    },
    {
     "name": "stdin",
     "output_type": "stream",
     "text": [
      "help>  symbols\n"
     ]
    },
    {
     "name": "stdout",
     "output_type": "stream",
     "text": [
      "\n",
      "Here is a list of the punctuation symbols which Python assigns special meaning\n",
      "to. Enter any symbol to get more help.\n",
      "\n",
      "!=                  +                   <=                  __\n",
      "\"                   +=                  <>                  `\n",
      "\"\"\"                 ,                   ==                  b\"\n",
      "%                   -                   >                   b'\n",
      "%=                  -=                  >=                  f\"\n",
      "&                   .                   >>                  f'\n",
      "&=                  ...                 >>=                 j\n",
      "'                   /                   @                   r\"\n",
      "'''                 //                  J                   r'\n",
      "(                   //=                 [                   u\"\n",
      ")                   /=                  \\                   u'\n",
      "*                   :                   ]                   |\n",
      "**                  <                   ^                   |=\n",
      "**=                 <<                  ^=                  ~\n",
      "*=                  <<=                 _                   \n",
      "\n"
     ]
    },
    {
     "name": "stdin",
     "output_type": "stream",
     "text": [
      "help>  **=\n"
     ]
    },
    {
     "name": "stdout",
     "output_type": "stream",
     "text": [
      "Augmented assignment statements\n",
      "*******************************\n",
      "\n",
      "Augmented assignment is the combination, in a single statement, of a\n",
      "binary operation and an assignment statement:\n",
      "\n",
      "   augmented_assignment_stmt ::= augtarget augop (expression_list | yield_expression)\n",
      "   augtarget                 ::= identifier | attributeref | subscription | slicing\n",
      "   augop                     ::= \"+=\" | \"-=\" | \"*=\" | \"@=\" | \"/=\" | \"//=\" | \"%=\" | \"**=\"\n",
      "             | \">>=\" | \"<<=\" | \"&=\" | \"^=\" | \"|=\"\n",
      "\n",
      "(See section Primaries for the syntax definitions of the last three\n",
      "symbols.)\n",
      "\n",
      "An augmented assignment evaluates the target (which, unlike normal\n",
      "assignment statements, cannot be an unpacking) and the expression\n",
      "list, performs the binary operation specific to the type of assignment\n",
      "on the two operands, and assigns the result to the original target.\n",
      "The target is only evaluated once.\n",
      "\n",
      "An augmented assignment expression like \"x += 1\" can be rewritten as\n",
      "\"x = x + 1\" to achieve a similar, but not exactly equal effect. In the\n",
      "augmented version, \"x\" is only evaluated once. Also, when possible,\n",
      "the actual operation is performed *in-place*, meaning that rather than\n",
      "creating a new object and assigning that to the target, the old object\n",
      "is modified instead.\n",
      "\n",
      "Unlike normal assignments, augmented assignments evaluate the left-\n",
      "hand side *before* evaluating the right-hand side.  For example, \"a[i]\n",
      "+= f(x)\" first looks-up \"a[i]\", then it evaluates \"f(x)\" and performs\n",
      "the addition, and lastly, it writes the result back to \"a[i]\".\n",
      "\n",
      "With the exception of assigning to tuples and multiple targets in a\n",
      "single statement, the assignment done by augmented assignment\n",
      "statements is handled the same way as normal assignments. Similarly,\n",
      "with the exception of the possible *in-place* behavior, the binary\n",
      "operation performed by augmented assignment is the same as the normal\n",
      "binary operations.\n",
      "\n",
      "For targets which are attribute references, the same caveat about\n",
      "class and instance attributes applies as for regular assignments.\n",
      "\n",
      "Related help topics: NUMBERMETHODS\n",
      "\n"
     ]
    },
    {
     "name": "stdin",
     "output_type": "stream",
     "text": [
      "help>  keywords\n"
     ]
    },
    {
     "name": "stdout",
     "output_type": "stream",
     "text": [
      "\n",
      "Here is a list of the Python keywords.  Enter any keyword to get more help.\n",
      "\n",
      "False               class               from                or\n",
      "None                continue            global              pass\n",
      "True                def                 if                  raise\n",
      "and                 del                 import              return\n",
      "as                  elif                in                  try\n",
      "assert              else                is                  while\n",
      "async               except              lambda              with\n",
      "await               finally             nonlocal            yield\n",
      "break               for                 not                 \n",
      "\n"
     ]
    },
    {
     "name": "stdin",
     "output_type": "stream",
     "text": [
      "help>  class\n"
     ]
    },
    {
     "name": "stdout",
     "output_type": "stream",
     "text": [
      "Class definitions\n",
      "*****************\n",
      "\n",
      "A class definition defines a class object (see section The standard\n",
      "type hierarchy):\n",
      "\n",
      "   classdef    ::= [decorators] \"class\" classname [type_params] [inheritance] \":\" suite\n",
      "   inheritance ::= \"(\" [argument_list] \")\"\n",
      "   classname   ::= identifier\n",
      "\n",
      "A class definition is an executable statement.  The inheritance list\n",
      "usually gives a list of base classes (see Metaclasses for more\n",
      "advanced uses), so each item in the list should evaluate to a class\n",
      "object which allows subclassing.  Classes without an inheritance list\n",
      "inherit, by default, from the base class \"object\"; hence,\n",
      "\n",
      "   class Foo:\n",
      "       pass\n",
      "\n",
      "is equivalent to\n",
      "\n",
      "   class Foo(object):\n",
      "       pass\n",
      "\n",
      "The class’s suite is then executed in a new execution frame (see\n",
      "Naming and binding), using a newly created local namespace and the\n",
      "original global namespace. (Usually, the suite contains mostly\n",
      "function definitions.)  When the class’s suite finishes execution, its\n",
      "execution frame is discarded but its local namespace is saved. [5] A\n",
      "class object is then created using the inheritance list for the base\n",
      "classes and the saved local namespace for the attribute dictionary.\n",
      "The class name is bound to this class object in the original local\n",
      "namespace.\n",
      "\n",
      "The order in which attributes are defined in the class body is\n",
      "preserved in the new class’s \"__dict__\".  Note that this is reliable\n",
      "only right after the class is created and only for classes that were\n",
      "defined using the definition syntax.\n",
      "\n",
      "Class creation can be customized heavily using metaclasses.\n",
      "\n",
      "Classes can also be decorated: just like when decorating functions,\n",
      "\n",
      "   @f1(arg)\n",
      "   @f2\n",
      "   class Foo: pass\n",
      "\n",
      "is roughly equivalent to\n",
      "\n",
      "   class Foo: pass\n",
      "   Foo = f1(arg)(f2(Foo))\n",
      "\n",
      "The evaluation rules for the decorator expressions are the same as for\n",
      "function decorators.  The result is then bound to the class name.\n",
      "\n",
      "Changed in version 3.9: Classes may be decorated with any valid\n",
      "\"assignment_expression\". Previously, the grammar was much more\n",
      "restrictive; see **PEP 614** for details.\n",
      "\n",
      "A list of type parameters may be given in square brackets immediately\n",
      "after the class’s name. This indicates to static type checkers that\n",
      "the class is generic. At runtime, the type parameters can be retrieved\n",
      "from the class’s \"__type_params__\" attribute. See Generic classes for\n",
      "more.\n",
      "\n",
      "Changed in version 3.12: Type parameter lists are new in Python 3.12.\n",
      "\n",
      "**Programmer’s note:** Variables defined in the class definition are\n",
      "class attributes; they are shared by instances.  Instance attributes\n",
      "can be set in a method with \"self.name = value\".  Both class and\n",
      "instance attributes are accessible through the notation “\"self.name\"”,\n",
      "and an instance attribute hides a class attribute with the same name\n",
      "when accessed in this way.  Class attributes can be used as defaults\n",
      "for instance attributes, but using mutable values there can lead to\n",
      "unexpected results.  Descriptors can be used to create instance\n",
      "variables with different implementation details.\n",
      "\n",
      "See also:\n",
      "\n",
      "  **PEP 3115** - Metaclasses in Python 3000\n",
      "     The proposal that changed the declaration of metaclasses to the\n",
      "     current syntax, and the semantics for how classes with\n",
      "     metaclasses are constructed.\n",
      "\n",
      "  **PEP 3129** - Class Decorators\n",
      "     The proposal that added class decorators.  Function and method\n",
      "     decorators were introduced in **PEP 318**.\n",
      "\n",
      "Related help topics: CLASSES, SPECIALMETHODS\n",
      "\n"
     ]
    },
    {
     "name": "stdin",
     "output_type": "stream",
     "text": [
      "help>  q\n"
     ]
    },
    {
     "name": "stdout",
     "output_type": "stream",
     "text": [
      "\n",
      "You are now leaving help and returning to the Python interpreter.\n",
      "If you want to ask for help on a particular object directly from the\n",
      "interpreter, you can type \"help(object)\".  Executing \"help('string')\"\n",
      "has the same effect as typing a particular string at the help> prompt.\n"
     ]
    }
   ],
   "source": [
    "help()"
   ]
  },
  {
   "cell_type": "code",
   "execution_count": 3,
   "id": "09c4d02e-cb27-4405-a57f-b1e1ded939dd",
   "metadata": {},
   "outputs": [],
   "source": [
    "a=1\n",
    "b=2.3\n",
    "c=\"Dhomma\"\n",
    "d= True\n",
    "e = True,False\n",
    "f = [23,34,8,3]\n",
    "g = (3,35,5)\n",
    "h = {34, 543, 434, 32}\n",
    "i = {\"h\":\"fd\",\"d\":\"fsd\"}"
   ]
  },
  {
   "cell_type": "code",
   "execution_count": 24,
   "id": "6e188037-5476-4635-88b1-37077956934d",
   "metadata": {},
   "outputs": [
    {
     "data": {
      "text/plain": [
       "[int, float, str, bool, tuple, list, tuple, set, dict]"
      ]
     },
     "execution_count": 24,
     "metadata": {},
     "output_type": "execute_result"
    }
   ],
   "source": [
    "[type(var) for var in (a,b,c,d,e,f,g,h,i)]"
   ]
  },
  {
   "cell_type": "code",
   "execution_count": 44,
   "id": "ec899802-30e9-4024-81e3-b56977ec903d",
   "metadata": {},
   "outputs": [
    {
     "name": "stdout",
     "output_type": "stream",
     "text": [
      "1 <class 'int'>\n",
      "2.3 <class 'float'>\n",
      "Dhomma <class 'str'>\n",
      "True <class 'bool'>\n",
      "(True, False) <class 'tuple'>\n",
      "[23, 34, 8, 3] <class 'list'>\n",
      "(3, 35, 5) <class 'tuple'>\n",
      "{32, 434, 34, 543} <class 'set'>\n"
     ]
    }
   ],
   "source": [
    "for var in (a, b, c, d, e, f, g, h):\n",
    "    print(str(var),type(var))"
   ]
  }
 ],
 "metadata": {
  "kernelspec": {
   "display_name": "Python 3 (ipykernel)",
   "language": "python",
   "name": "python3"
  },
  "language_info": {
   "codemirror_mode": {
    "name": "ipython",
    "version": 3
   },
   "file_extension": ".py",
   "mimetype": "text/x-python",
   "name": "python",
   "nbconvert_exporter": "python",
   "pygments_lexer": "ipython3",
   "version": "3.12.4"
  }
 },
 "nbformat": 4,
 "nbformat_minor": 5
}
