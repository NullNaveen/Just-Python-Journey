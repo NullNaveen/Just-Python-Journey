{
 "cells": [
  {
   "cell_type": "code",
   "execution_count": 2,
   "id": "75f6e993-14ad-48da-8148-b2d6abfc67a8",
   "metadata": {},
   "outputs": [],
   "source": [
    "import pandas as pd\n",
    "import numpy as np\n",
    "from pandas import Series, DataFrame"
   ]
  },
  {
   "cell_type": "code",
   "execution_count": 26,
   "id": "7c760cad-1e4a-4e0d-ba61-f4b8cdfd5a61",
   "metadata": {},
   "outputs": [
    {
     "data": {
      "text/plain": [
       "0    54\n",
       "1    24\n",
       "2    52\n",
       "3    54\n",
       "4    53\n",
       "5    64\n",
       "dtype: int64"
      ]
     },
     "execution_count": 26,
     "metadata": {},
     "output_type": "execute_result"
    }
   ],
   "source": [
    "s1 = Series([54,24,52,54,53,64])\n",
    "s1"
   ]
  },
  {
   "cell_type": "code",
   "execution_count": 28,
   "id": "14a77627-9a79-4fda-9ca6-752b6dce69a8",
   "metadata": {},
   "outputs": [
    {
     "data": {
      "text/plain": [
       "(pandas.core.series.Series, dtype('int64'), 6, (6,))"
      ]
     },
     "execution_count": 28,
     "metadata": {},
     "output_type": "execute_result"
    }
   ],
   "source": [
    "type(s1), s1.dtype, s1.size, s1.shape"
   ]
  },
  {
   "cell_type": "code",
   "execution_count": 30,
   "id": "a1460827-0891-40e7-8080-3e95a2541640",
   "metadata": {},
   "outputs": [
    {
     "data": {
      "text/plain": [
       "a    34\n",
       "b    54\n",
       "c    34\n",
       "d    65\n",
       "e    23\n",
       "dtype: int64"
      ]
     },
     "execution_count": 30,
     "metadata": {},
     "output_type": "execute_result"
    }
   ],
   "source": [
    "s2 = Series([34,54,34,65,23],index=[\"a\",\"b\",\"c\",\"d\",\"e\"])\n",
    "s2"
   ]
  },
  {
   "cell_type": "code",
   "execution_count": 66,
   "id": "58b17199-e8b8-4e00-9e55-b864cd439ab1",
   "metadata": {},
   "outputs": [
    {
     "data": {
      "text/plain": [
       "a    34\n",
       "b    54\n",
       "c    34\n",
       "dtype: int64"
      ]
     },
     "execution_count": 66,
     "metadata": {},
     "output_type": "execute_result"
    }
   ],
   "source": [
    "s2[0:3]"
   ]
  },
  {
   "cell_type": "code",
   "execution_count": 62,
   "id": "3c481a04-db5a-498d-8ca0-2c1690511ab2",
   "metadata": {},
   "outputs": [
    {
     "data": {
      "text/plain": [
       "Series([], dtype: int64)"
      ]
     },
     "execution_count": 62,
     "metadata": {},
     "output_type": "execute_result"
    }
   ],
   "source": [
    "s2[3:0]"
   ]
  },
  {
   "cell_type": "code",
   "execution_count": 64,
   "id": "27f54ae4-b4b9-446a-ae32-9cf1bcddd230",
   "metadata": {},
   "outputs": [
    {
     "data": {
      "text/plain": [
       "d    65\n",
       "c    34\n",
       "b    54\n",
       "dtype: int64"
      ]
     },
     "execution_count": 64,
     "metadata": {},
     "output_type": "execute_result"
    }
   ],
   "source": [
    "s2[3:0:-1]"
   ]
  },
  {
   "cell_type": "code",
   "execution_count": 68,
   "id": "7092142f-4afd-49d1-abdb-3cf88be65d07",
   "metadata": {},
   "outputs": [
    {
     "data": {
      "text/plain": [
       "a    34\n",
       "b    54\n",
       "c    34\n",
       "dtype: int64"
      ]
     },
     "execution_count": 68,
     "metadata": {},
     "output_type": "execute_result"
    }
   ],
   "source": [
    "s2['a':'c']"
   ]
  },
  {
   "cell_type": "markdown",
   "id": "bae093e0-f0ec-46ee-bd0e-f8e05837fc1f",
   "metadata": {},
   "source": [
    "A Series is a one-dimensional labeled array that can hold any data type (integers, strings, floats, etc.).\n",
    "\n",
    "Each value has an index (left column), which starts from 0 by default."
   ]
  },
  {
   "cell_type": "code",
   "execution_count": 40,
   "id": "4fc43080-ada4-4477-a8a3-52e4f01ca120",
   "metadata": {},
   "outputs": [
    {
     "data": {
      "text/plain": [
       "0    10\n",
       "1    20\n",
       "2    30\n",
       "3    40\n",
       "dtype: int64"
      ]
     },
     "execution_count": 40,
     "metadata": {},
     "output_type": "execute_result"
    }
   ],
   "source": [
    "# Creating a Series from a list\n",
    "data = [10, 20, 30, 40]\n",
    "series = pd.Series(data)\n",
    "series"
   ]
  },
  {
   "cell_type": "code",
   "execution_count": null,
   "id": "83cca40d-1e42-4488-85a7-95939601b9be",
   "metadata": {},
   "outputs": [],
   "source": []
  },
  {
   "cell_type": "code",
   "execution_count": 42,
   "id": "0195ad8e-134c-4445-a70b-061c7fff103d",
   "metadata": {},
   "outputs": [
    {
     "name": "stdout",
     "output_type": "stream",
     "text": [
      "a    10\n",
      "b    20\n",
      "c    30\n",
      "d    40\n",
      "dtype: int64\n"
     ]
    }
   ],
   "source": [
    "series = pd.Series(data, index=['a', 'b', 'c', 'd'])\n",
    "print(series)"
   ]
  },
  {
   "cell_type": "code",
   "execution_count": 48,
   "id": "5f664371-e1e7-4ce8-bd9c-52482e192c9d",
   "metadata": {},
   "outputs": [
    {
     "name": "stdout",
     "output_type": "stream",
     "text": [
      "30\n",
      "20\n"
     ]
    },
    {
     "name": "stderr",
     "output_type": "stream",
     "text": [
      "C:\\Users\\Nike\\AppData\\Local\\Temp\\ipykernel_18588\\2434563373.py:1: FutureWarning: Series.__getitem__ treating keys as positions is deprecated. In a future version, integer keys will always be treated as labels (consistent with DataFrame behavior). To access a value by position, use `ser.iloc[pos]`\n",
      "  print(series[2])\n"
     ]
    }
   ],
   "source": [
    "print(series[2])\n",
    "print(series['b'])"
   ]
  },
  {
   "cell_type": "code",
   "execution_count": 50,
   "id": "9ecbb2a5-0310-469d-a4f2-3f25e65015ec",
   "metadata": {},
   "outputs": [
    {
     "name": "stdout",
     "output_type": "stream",
     "text": [
      "a    20\n",
      "b    40\n",
      "c    60\n",
      "d    80\n",
      "dtype: int64\n",
      "a    15\n",
      "b    25\n",
      "c    35\n",
      "d    45\n",
      "dtype: int64\n"
     ]
    }
   ],
   "source": [
    "#Operation on Series\n",
    "print(series * 2)  # Multiply all values by 2\n",
    "print(series + 5)  # Add 5 to all values\n"
   ]
  },
  {
   "cell_type": "code",
   "execution_count": null,
   "id": "fac0f72f-6e87-4123-828e-a0b5f531de59",
   "metadata": {},
   "outputs": [],
   "source": []
  }
 ],
 "metadata": {
  "kernelspec": {
   "display_name": "Python 3 (ipykernel)",
   "language": "python",
   "name": "python3"
  },
  "language_info": {
   "codemirror_mode": {
    "name": "ipython",
    "version": 3
   },
   "file_extension": ".py",
   "mimetype": "text/x-python",
   "name": "python",
   "nbconvert_exporter": "python",
   "pygments_lexer": "ipython3",
   "version": "3.12.4"
  }
 },
 "nbformat": 4,
 "nbformat_minor": 5
}
