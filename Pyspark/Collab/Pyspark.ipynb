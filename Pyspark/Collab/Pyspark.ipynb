{
 "cells": [
  {
   "cell_type": "code",
   "execution_count": 5,
   "metadata": {
    "colab": {
     "base_uri": "https://localhost:8080/"
    },
    "id": "rNoYN5iXKOIL",
    "outputId": "4f987431-34de-45f1-b6a1-94a32f63923c",
    "scrolled": true
   },
   "outputs": [
    {
     "name": "stderr",
     "output_type": "stream",
     "text": [
      "Traceback (most recent call last):\n",
      "  File \"<frozen runpy>\", line 198, in _run_module_as_main\n",
      "  File \"<frozen runpy>\", line 88, in _run_code\n",
      "  File \"C:\\Users\\Nike\\anaconda3\\Scripts\\pip.exe\\__main__.py\", line 4, in <module>\n",
      "  File \"C:\\Users\\Nike\\AppData\\Roaming\\Python\\Python312\\site-packages\\pip\\_internal\\__init__.py\", line 3, in <module>\n",
      "    from pip._internal.utils import _log\n",
      "ModuleNotFoundError: No module named 'pip._internal.utils'\n"
     ]
    }
   ],
   "source": [
    "!pip install pyspark"
   ]
  },
  {
   "cell_type": "code",
   "execution_count": 3,
   "metadata": {
    "id": "tY-NvCt8MsZM"
   },
   "outputs": [
    {
     "ename": "SyntaxError",
     "evalue": "invalid syntax (pyspark.py, line 10)",
     "output_type": "error",
     "traceback": [
      "Traceback \u001b[1;36m(most recent call last)\u001b[0m:\n",
      "\u001b[0m  File \u001b[0;32m~\\AppData\\Roaming\\Python\\Python312\\site-packages\\IPython\\core\\interactiveshell.py:3553\u001b[0m in \u001b[0;35mrun_code\u001b[0m\n    exec(code_obj, self.user_global_ns, self.user_ns)\u001b[0m\n",
      "\u001b[1;36m  Cell \u001b[1;32mIn[3], line 1\u001b[1;36m\n\u001b[1;33m    from pyspark.sql import SparkSession\u001b[1;36m\n",
      "\u001b[1;36m  File \u001b[1;32m~\\Documents\\Programming\\Python\\Pyspark\\Collab\\pyspark.py:10\u001b[1;36m\u001b[0m\n\u001b[1;33m    !pip install pyspark\u001b[0m\n\u001b[1;37m    ^\u001b[0m\n\u001b[1;31mSyntaxError\u001b[0m\u001b[1;31m:\u001b[0m invalid syntax\n"
     ]
    }
   ],
   "source": [
    "from pyspark.sql import SparkSession"
   ]
  },
  {
   "cell_type": "code",
   "execution_count": 5,
   "metadata": {
    "colab": {
     "base_uri": "https://localhost:8080/"
    },
    "id": "1wOjPWtYM0mJ",
    "outputId": "8ea63dc4-4d59-48ed-ef00-aac2d9389c20"
   },
   "outputs": [
    {
     "name": "stdout",
     "output_type": "stream",
     "text": [
      "Spark Session Created Successfully!\n"
     ]
    }
   ],
   "source": [
    "#Create a SparkSession\n",
    "spark = SparkSession.builder.appName(\"PySpark_Intro\").getOrCreate()\n",
    "\n",
    "#Verify Spark Session\n",
    "print(\"Spark Session Created Successfully!\")\n"
   ]
  },
  {
   "cell_type": "code",
   "execution_count": 6,
   "metadata": {
    "id": "00cqgcbDNkv1"
   },
   "outputs": [],
   "source": [
    "# Sample data\n",
    "data = [\n",
    "    (\"Alice\", 25, \"New York\"),\n",
    "    (\"Bob\", 30, \"Los Angeles\"),\n",
    "    (\"Charlie\", 22, \"Chicago\"),\n",
    "    (\"David\", 28, \"Houston\")\n",
    "]\n",
    "\n",
    "# Defining the schema (columns)\n",
    "columns = [\"Name\", \"Age\", \"City\"]"
   ]
  },
  {
   "cell_type": "code",
   "execution_count": 1,
   "metadata": {
    "colab": {
     "base_uri": "https://localhost:8080/"
    },
    "id": "i5UJq0OxNs2P",
    "outputId": "7b4b9685-c4ed-43a6-a0d4-03b3bd718d49"
   },
   "outputs": [
    {
     "ename": "NameError",
     "evalue": "name 'spark' is not defined",
     "output_type": "error",
     "traceback": [
      "\u001b[1;31m---------------------------------------------------------------------------\u001b[0m",
      "\u001b[1;31mNameError\u001b[0m                                 Traceback (most recent call last)",
      "Cell \u001b[1;32mIn[1], line 2\u001b[0m\n\u001b[0;32m      1\u001b[0m \u001b[38;5;66;03m# Creating a DataFrame\u001b[39;00m\n\u001b[1;32m----> 2\u001b[0m df \u001b[38;5;241m=\u001b[39m \u001b[43mspark\u001b[49m\u001b[38;5;241m.\u001b[39mcreateDataFrame(data, schema\u001b[38;5;241m=\u001b[39mcolumns)\n\u001b[0;32m      4\u001b[0m \u001b[38;5;66;03m# Displaying the DataFrame\u001b[39;00m\n\u001b[0;32m      5\u001b[0m df\u001b[38;5;241m.\u001b[39mshow()\n",
      "\u001b[1;31mNameError\u001b[0m: name 'spark' is not defined"
     ]
    }
   ],
   "source": [
    "# Creating a DataFrame\n",
    "df = spark.createDataFrame(data, schema=columns)\n",
    "\n",
    "# Displaying the DataFrame\n",
    "df.show()"
   ]
  },
  {
   "cell_type": "markdown",
   "metadata": {
    "id": "wWEm9o0iOleA"
   },
   "source": [
    "✅ **Key Points to Understand:**\n",
    "*   DataFrame in PySpark is similar to pandas DataFrame but optimized for big data.\n",
    "*   .show() is like pandas.head(), used to display the data.\n",
    "\n",
    "\n"
   ]
  },
  {
   "cell_type": "code",
   "execution_count": 8,
   "metadata": {
    "colab": {
     "base_uri": "https://localhost:8080/"
    },
    "id": "ujCdzcW3OTow",
    "outputId": "d16d4909-c698-45f8-a4fd-3dd5e5ca8ae4"
   },
   "outputs": [
    {
     "name": "stdout",
     "output_type": "stream",
     "text": [
      "+-------+-----------+\n",
      "|   Name|       City|\n",
      "+-------+-----------+\n",
      "|  Alice|   New York|\n",
      "|    Bob|Los Angeles|\n",
      "|Charlie|    Chicago|\n",
      "|  David|    Houston|\n",
      "+-------+-----------+\n",
      "\n"
     ]
    }
   ],
   "source": [
    "df.select('Name','City').show()"
   ]
  },
  {
   "cell_type": "code",
   "execution_count": 9,
   "metadata": {
    "colab": {
     "base_uri": "https://localhost:8080/"
    },
    "id": "lUdca0yeP4A0",
    "outputId": "956c651e-17eb-45e2-e74c-607c596ed69b"
   },
   "outputs": [
    {
     "data": {
      "text/plain": [
       "DataFrame[Name: string, City: string]"
      ]
     },
     "execution_count": 9,
     "metadata": {},
     "output_type": "execute_result"
    }
   ],
   "source": [
    "df[['Name','City']]"
   ]
  },
  {
   "cell_type": "code",
   "execution_count": 10,
   "metadata": {
    "colab": {
     "base_uri": "https://localhost:8080/"
    },
    "id": "mp2UbhnHQTh5",
    "outputId": "6416f554-10d5-4b82-84df-f5e6f9dc4e5e"
   },
   "outputs": [
    {
     "name": "stdout",
     "output_type": "stream",
     "text": [
      "+-----+---+-----------+\n",
      "| Name|Age|       City|\n",
      "+-----+---+-----------+\n",
      "|  Bob| 30|Los Angeles|\n",
      "|David| 28|    Houston|\n",
      "+-----+---+-----------+\n",
      "\n"
     ]
    }
   ],
   "source": [
    "df.filter(df.Age > 25).show()"
   ]
  },
  {
   "cell_type": "code",
   "execution_count": 11,
   "metadata": {
    "colab": {
     "base_uri": "https://localhost:8080/"
    },
    "id": "qTbM1WyOQcqm",
    "outputId": "c090fdb9-b0d0-4c93-9d72-db9f3c58319b"
   },
   "outputs": [
    {
     "name": "stdout",
     "output_type": "stream",
     "text": [
      "+-----+---+-----------+\n",
      "| Name|Age|       City|\n",
      "+-----+---+-----------+\n",
      "|  Bob| 30|Los Angeles|\n",
      "|David| 28|    Houston|\n",
      "+-----+---+-----------+\n",
      "\n"
     ]
    }
   ],
   "source": [
    "df.filter('Age > 25').show()"
   ]
  },
  {
   "cell_type": "code",
   "execution_count": 12,
   "metadata": {
    "colab": {
     "base_uri": "https://localhost:8080/"
    },
    "id": "6_xjhIoeQo4y",
    "outputId": "6355e93a-7f6a-42e3-99fc-6ba55b27d637"
   },
   "outputs": [
    {
     "name": "stdout",
     "output_type": "stream",
     "text": [
      "+-------+---+-----------+-----------------+\n",
      "|   Name|Age|       City|Age_after_3_years|\n",
      "+-------+---+-----------+-----------------+\n",
      "|  Alice| 25|   New York|               28|\n",
      "|    Bob| 30|Los Angeles|               33|\n",
      "|Charlie| 22|    Chicago|               25|\n",
      "|  David| 28|    Houston|               31|\n",
      "+-------+---+-----------+-----------------+\n",
      "\n"
     ]
    }
   ],
   "source": [
    "from pyspark.sql.functions import col\n",
    "\n",
    "# Add a new column by adding 5 to the existing Age\n",
    "df = df.withColumn(\"Age_after_3_years\", col(\"Age\") + 3)\n",
    "df.show()"
   ]
  },
  {
   "cell_type": "code",
   "execution_count": 13,
   "metadata": {
    "colab": {
     "base_uri": "https://localhost:8080/"
    },
    "id": "bP7GFjQnRMj7",
    "outputId": "12b87d37-acf3-41a3-a962-eebb92523c9a"
   },
   "outputs": [
    {
     "name": "stdout",
     "output_type": "stream",
     "text": [
      "+-------+---+-----------+-----------------+\n",
      "|   Name|Age|   Location|Age_after_3_years|\n",
      "+-------+---+-----------+-----------------+\n",
      "|  Alice| 25|   New York|               28|\n",
      "|    Bob| 30|Los Angeles|               33|\n",
      "|Charlie| 22|    Chicago|               25|\n",
      "|  David| 28|    Houston|               31|\n",
      "+-------+---+-----------+-----------------+\n",
      "\n"
     ]
    }
   ],
   "source": [
    "df = df.withColumnRenamed(\"City\", \"Location\")\n",
    "df.show()"
   ]
  },
  {
   "cell_type": "code",
   "execution_count": 14,
   "metadata": {
    "colab": {
     "base_uri": "https://localhost:8080/"
    },
    "id": "ERftqf7LRoC7",
    "outputId": "b7ae75cf-0c3b-4c02-ba5a-48292ea13b7e"
   },
   "outputs": [
    {
     "name": "stdout",
     "output_type": "stream",
     "text": [
      "+-------+---+-----------+\n",
      "|   Name|Age|   Location|\n",
      "+-------+---+-----------+\n",
      "|  Alice| 25|   New York|\n",
      "|    Bob| 30|Los Angeles|\n",
      "|Charlie| 22|    Chicago|\n",
      "|  David| 28|    Houston|\n",
      "+-------+---+-----------+\n",
      "\n"
     ]
    }
   ],
   "source": [
    "df = df.drop(\"Age_after_3_years\")\n",
    "df.show()"
   ]
  },
  {
   "cell_type": "code",
   "execution_count": 15,
   "metadata": {
    "colab": {
     "base_uri": "https://localhost:8080/"
    },
    "id": "RZ0EVMIUxuKq",
    "outputId": "813403fe-3d0e-4af4-af88-2371ca33edc2"
   },
   "outputs": [
    {
     "name": "stdout",
     "output_type": "stream",
     "text": [
      "+----+---+-----------+\n",
      "|Name|Age|   Location|\n",
      "+----+---+-----------+\n",
      "| Bob| 30|Los Angeles|\n",
      "+----+---+-----------+\n",
      "\n"
     ]
    }
   ],
   "source": [
    "df.filter(\"Age>28\").show()"
   ]
  },
  {
   "cell_type": "code",
   "execution_count": 16,
   "metadata": {
    "colab": {
     "base_uri": "https://localhost:8080/"
    },
    "id": "81G3oI6ryWnV",
    "outputId": "1f7b56a4-2140-4aca-92a8-09c8ca0a0082"
   },
   "outputs": [
    {
     "name": "stdout",
     "output_type": "stream",
     "text": [
      "+-----+\n",
      "| Name|\n",
      "+-----+\n",
      "|  Bob|\n",
      "|David|\n",
      "+-----+\n",
      "\n"
     ]
    }
   ],
   "source": [
    "df.filter(df.Age>25).select(\"Name\").show()"
   ]
  },
  {
   "cell_type": "code",
   "execution_count": 17,
   "metadata": {
    "colab": {
     "base_uri": "https://localhost:8080/"
    },
    "id": "2pT8BbQ3yjkX",
    "outputId": "c85edfb5-c414-4ff4-8760-e6c3786d6cfb"
   },
   "outputs": [
    {
     "name": "stdout",
     "output_type": "stream",
     "text": [
      "+-----------+\n",
      "|   Location|\n",
      "+-----------+\n",
      "|   New York|\n",
      "|Los Angeles|\n",
      "|    Chicago|\n",
      "|    Houston|\n",
      "+-----------+\n",
      "\n"
     ]
    }
   ],
   "source": [
    "df.select(\"Location\").show()"
   ]
  },
  {
   "cell_type": "code",
   "execution_count": 18,
   "metadata": {
    "colab": {
     "base_uri": "https://localhost:8080/"
    },
    "id": "LrOXmZBwydb-",
    "outputId": "907729d7-76aa-4deb-e14f-df199723265d"
   },
   "outputs": [
    {
     "name": "stdout",
     "output_type": "stream",
     "text": [
      "+-----------+\n",
      "|   Location|\n",
      "+-----------+\n",
      "|   New York|\n",
      "|Los Angeles|\n",
      "|    Chicago|\n",
      "|    Houston|\n",
      "+-----------+\n",
      "\n"
     ]
    }
   ],
   "source": [
    "df.select(df.Location).show()"
   ]
  },
  {
   "cell_type": "code",
   "execution_count": 19,
   "metadata": {
    "colab": {
     "base_uri": "https://localhost:8080/"
    },
    "id": "HwINf94Ty2jw",
    "outputId": "84bba114-ce04-4d0e-94f6-eb2b2cd7700b"
   },
   "outputs": [
    {
     "name": "stdout",
     "output_type": "stream",
     "text": [
      "+-----------+\n",
      "|   Location|\n",
      "+-----------+\n",
      "|   New York|\n",
      "|Los Angeles|\n",
      "|    Chicago|\n",
      "|    Houston|\n",
      "+-----------+\n",
      "\n"
     ]
    }
   ],
   "source": [
    "df.select(col(\"Location\")).show()"
   ]
  },
  {
   "cell_type": "code",
   "execution_count": 20,
   "metadata": {
    "colab": {
     "base_uri": "https://localhost:8080/"
    },
    "id": "SsFQFTCDzFCK",
    "outputId": "6d7d8e65-5d1b-4b17-adcd-11dbf8c1c4c6"
   },
   "outputs": [
    {
     "name": "stdout",
     "output_type": "stream",
     "text": [
      "+-------+---+--------+\n",
      "|   Name|Age|Location|\n",
      "+-------+---+--------+\n",
      "|Charlie| 22| Chicago|\n",
      "+-------+---+--------+\n",
      "\n",
      "+-------+---+--------+\n",
      "|   Name|Age|Location|\n",
      "+-------+---+--------+\n",
      "|Charlie| 22| Chicago|\n",
      "+-------+---+--------+\n",
      "\n",
      "+-------+---+--------+\n",
      "|   Name|Age|Location|\n",
      "+-------+---+--------+\n",
      "|Charlie| 22| Chicago|\n",
      "+-------+---+--------+\n",
      "\n",
      "+-------+---+--------+\n",
      "|   Name|Age|Location|\n",
      "+-------+---+--------+\n",
      "|Charlie| 22| Chicago|\n",
      "+-------+---+--------+\n",
      "\n",
      "+-------+---+--------+\n",
      "|   Name|Age|Location|\n",
      "+-------+---+--------+\n",
      "|Charlie| 22| Chicago|\n",
      "+-------+---+--------+\n",
      "\n",
      "+-------+---+--------+\n",
      "|   Name|Age|Location|\n",
      "+-------+---+--------+\n",
      "|Charlie| 22| Chicago|\n",
      "+-------+---+--------+\n",
      "\n",
      "+-------+---+--------+\n",
      "|   Name|Age|Location|\n",
      "+-------+---+--------+\n",
      "|Charlie| 22| Chicago|\n",
      "+-------+---+--------+\n",
      "\n",
      "+-------+---+--------+\n",
      "|   Name|Age|Location|\n",
      "+-------+---+--------+\n",
      "|Charlie| 22| Chicago|\n",
      "+-------+---+--------+\n",
      "\n"
     ]
    }
   ],
   "source": [
    "df.filter(df.Location == \"Chicago\").show()\n",
    "df.filter(col(\"Location\") == \"Chicago\").show()\n",
    "df.filter(df[\"Location\"] == \"Chicago\").show()\n",
    "df.filter(\"Location == 'Chicago'\").show()\n",
    "df.where(\"Location == 'Chicago'\").show()\n",
    "df.where(col(\"Location\") == \"Chicago\").show()\n",
    "df.where(df[\"Location\"] == \"Chicago\").show()\n",
    "df.where(df.Location == \"Chicago\").show()"
   ]
  },
  {
   "cell_type": "code",
   "execution_count": 21,
   "metadata": {
    "colab": {
     "base_uri": "https://localhost:8080/",
     "height": 186
    },
    "id": "E5SQcbjE1icx",
    "outputId": "079152f7-8ee8-4470-a931-a2967965bec0"
   },
   "outputs": [
    {
     "data": {
      "text/html": [
       "<div style=\"max-width:800px; border: 1px solid var(--colab-border-color);\"><style>\n",
       "      pre.function-repr-contents {\n",
       "        overflow-x: auto;\n",
       "        padding: 8px 12px;\n",
       "        max-height: 500px;\n",
       "      }\n",
       "\n",
       "      pre.function-repr-contents.function-repr-contents-collapsed {\n",
       "        cursor: pointer;\n",
       "        max-height: 100px;\n",
       "      }\n",
       "    </style>\n",
       "    <pre style=\"white-space: initial; background:\n",
       "         var(--colab-secondary-surface-color); padding: 8px 12px;\n",
       "         border-bottom: 1px solid var(--colab-border-color);\"><b>pyspark.sql.dataframe.DataFrame.count</b><br/>def count() -&gt; int</pre><pre class=\"function-repr-contents function-repr-contents-collapsed\" style=\"\"><a class=\"filepath\" style=\"display:none\" href=\"#\">/usr/local/lib/python3.11/dist-packages/pyspark/sql/dataframe.py</a>Returns the number of rows in this :class:`DataFrame`.\n",
       "\n",
       ".. versionadded:: 1.3.0\n",
       "\n",
       ".. versionchanged:: 3.4.0\n",
       "    Supports Spark Connect.\n",
       "\n",
       "Returns\n",
       "-------\n",
       "int\n",
       "    Number of rows.\n",
       "\n",
       "Examples\n",
       "--------\n",
       "&gt;&gt;&gt; df = spark.createDataFrame(\n",
       "...     [(14, &quot;Tom&quot;), (23, &quot;Alice&quot;), (16, &quot;Bob&quot;)], [&quot;age&quot;, &quot;name&quot;])\n",
       "\n",
       "Return the number of rows in the :class:`DataFrame`.\n",
       "\n",
       "&gt;&gt;&gt; df.count()\n",
       "3</pre>\n",
       "      <script>\n",
       "      if (google.colab.kernel.accessAllowed && google.colab.files && google.colab.files.view) {\n",
       "        for (const element of document.querySelectorAll('.filepath')) {\n",
       "          element.style.display = 'block'\n",
       "          element.onclick = (event) => {\n",
       "            event.preventDefault();\n",
       "            event.stopPropagation();\n",
       "            google.colab.files.view(element.textContent, 1217);\n",
       "          };\n",
       "        }\n",
       "      }\n",
       "      for (const element of document.querySelectorAll('.function-repr-contents')) {\n",
       "        element.onclick = (event) => {\n",
       "          event.preventDefault();\n",
       "          event.stopPropagation();\n",
       "          element.classList.toggle('function-repr-contents-collapsed');\n",
       "        };\n",
       "      }\n",
       "      </script>\n",
       "      </div>"
      ],
      "text/plain": [
       "<bound method DataFrame.count of DataFrame[Name: string, Age: bigint, Location: string]>"
      ]
     },
     "execution_count": 21,
     "metadata": {},
     "output_type": "execute_result"
    }
   ],
   "source": [
    "df.count"
   ]
  },
  {
   "cell_type": "code",
   "execution_count": 22,
   "metadata": {
    "colab": {
     "base_uri": "https://localhost:8080/"
    },
    "id": "8PJMVn8L3D6m",
    "outputId": "04433a69-c2cb-4e6c-cfe8-3c052fceb92b"
   },
   "outputs": [
    {
     "name": "stdout",
     "output_type": "stream",
     "text": [
      "+-----------+\n",
      "|count(Name)|\n",
      "+-----------+\n",
      "|          4|\n",
      "+-----------+\n",
      "\n",
      "+-----------+\n",
      "|count(Name)|\n",
      "+-----------+\n",
      "|          4|\n",
      "+-----------+\n",
      "\n"
     ]
    }
   ],
   "source": [
    "from pyspark.sql.functions import count, avg, min, max, sum, stddev, variance, skewness, kurtosis, corr, covar_pop, covar_samp, collect_list, collect_set, array_contains\n",
    "\n",
    "df.select(count(\"Name\")).show()\n",
    "\n",
    "df.agg(count(\"Name\")).show()"
   ]
  },
  {
   "cell_type": "code",
   "execution_count": 23,
   "metadata": {
    "colab": {
     "base_uri": "https://localhost:8080/"
    },
    "id": "8-WAjWRE3LW3",
    "outputId": "a247cf2c-5ce5-454e-ac4f-eff9582aace6"
   },
   "outputs": [
    {
     "name": "stdout",
     "output_type": "stream",
     "text": [
      "+--------+--------+\n",
      "|min(Age)|max(Age)|\n",
      "+--------+--------+\n",
      "|      22|      30|\n",
      "+--------+--------+\n",
      "\n"
     ]
    }
   ],
   "source": [
    "df.select(min(\"Age\"), max(\"Age\")).show()"
   ]
  },
  {
   "cell_type": "code",
   "execution_count": 24,
   "metadata": {
    "colab": {
     "base_uri": "https://localhost:8080/"
    },
    "id": "qt7gO1mY3qcq",
    "outputId": "cd48b2e5-c581-43dc-b8d0-97a6c73cdf30"
   },
   "outputs": [
    {
     "name": "stdout",
     "output_type": "stream",
     "text": [
      "+--------+\n",
      "|avg(Age)|\n",
      "+--------+\n",
      "|   26.25|\n",
      "+--------+\n",
      "\n"
     ]
    }
   ],
   "source": [
    "df.select(avg(\"Age\")).show()"
   ]
  },
  {
   "cell_type": "code",
   "execution_count": 25,
   "metadata": {
    "colab": {
     "base_uri": "https://localhost:8080/"
    },
    "id": "WcDNsTLF3tlD",
    "outputId": "2d1732da-d3ee-45dd-f018-807229625969"
   },
   "outputs": [
    {
     "name": "stdout",
     "output_type": "stream",
     "text": [
      "+-----------+--------+\n",
      "|   Location|avg(Age)|\n",
      "+-----------+--------+\n",
      "|Los Angeles|    30.0|\n",
      "|   New York|    25.0|\n",
      "|    Chicago|    22.0|\n",
      "|    Houston|    28.0|\n",
      "+-----------+--------+\n",
      "\n"
     ]
    }
   ],
   "source": [
    "df.groupby(\"Location\").avg(\"Age\").show()"
   ]
  },
  {
   "cell_type": "code",
   "execution_count": 26,
   "metadata": {
    "colab": {
     "base_uri": "https://localhost:8080/"
    },
    "id": "2FREAnn23-GX",
    "outputId": "60c73aa9-60ba-4ce3-de9d-ead67f51d5e6"
   },
   "outputs": [
    {
     "name": "stdout",
     "output_type": "stream",
     "text": [
      "+-----------+-----+\n",
      "|   Location|count|\n",
      "+-----------+-----+\n",
      "|Los Angeles|    1|\n",
      "|   New York|    1|\n",
      "|    Chicago|    1|\n",
      "|    Houston|    1|\n",
      "+-----------+-----+\n",
      "\n"
     ]
    }
   ],
   "source": [
    "df.groupby(\"Location\").count().show()"
   ]
  },
  {
   "cell_type": "code",
   "execution_count": 27,
   "metadata": {
    "colab": {
     "base_uri": "https://localhost:8080/"
    },
    "id": "2tiNkIe34cxS",
    "outputId": "fbff6482-3aa6-4408-eac4-9cf9a9ae7888"
   },
   "outputs": [
    {
     "name": "stdout",
     "output_type": "stream",
     "text": [
      "+-------+---+-----------+\n",
      "|   Name|Age|   Location|\n",
      "+-------+---+-----------+\n",
      "|Charlie| 22|    Chicago|\n",
      "|  Alice| 25|   New York|\n",
      "|  David| 28|    Houston|\n",
      "|    Bob| 30|Los Angeles|\n",
      "+-------+---+-----------+\n",
      "\n"
     ]
    }
   ],
   "source": [
    "df.orderBy(\"Age\").show()"
   ]
  },
  {
   "cell_type": "code",
   "execution_count": 28,
   "metadata": {
    "id": "ZtFJDvQ1H75v"
   },
   "outputs": [],
   "source": [
    "df.createOrReplaceTempView(\"people\")"
   ]
  },
  {
   "cell_type": "code",
   "execution_count": 29,
   "metadata": {
    "colab": {
     "base_uri": "https://localhost:8080/"
    },
    "id": "Tjg8CqrXIhr5",
    "outputId": "ebcece3a-be87-4155-b4f7-9df9d64ad072"
   },
   "outputs": [
    {
     "name": "stdout",
     "output_type": "stream",
     "text": [
      "+-------+---+-----------+\n",
      "|   Name|Age|   Location|\n",
      "+-------+---+-----------+\n",
      "|  Alice| 25|   New York|\n",
      "|    Bob| 30|Los Angeles|\n",
      "|Charlie| 22|    Chicago|\n",
      "|  David| 28|    Houston|\n",
      "+-------+---+-----------+\n",
      "\n"
     ]
    }
   ],
   "source": [
    "spark.sql(\"Select * from people\").show()"
   ]
  },
  {
   "cell_type": "code",
   "execution_count": 30,
   "metadata": {
    "colab": {
     "base_uri": "https://localhost:8080/"
    },
    "id": "lw5bu3_mIqv0",
    "outputId": "6a7d0f9b-7d9a-4a51-93bf-609c56e3ec4d"
   },
   "outputs": [
    {
     "name": "stdout",
     "output_type": "stream",
     "text": [
      "+-----+---+-----------+\n",
      "| Name|Age|   Location|\n",
      "+-----+---+-----------+\n",
      "|  Bob| 30|Los Angeles|\n",
      "|David| 28|    Houston|\n",
      "+-----+---+-----------+\n",
      "\n"
     ]
    }
   ],
   "source": [
    "spark.sql(\"Select * from people where Age > 25\").show()"
   ]
  },
  {
   "cell_type": "code",
   "execution_count": 31,
   "metadata": {
    "colab": {
     "base_uri": "https://localhost:8080/"
    },
    "id": "X3p9-371I3SG",
    "outputId": "20849ba2-2936-45be-e5ad-9aa6592ee036"
   },
   "outputs": [
    {
     "name": "stdout",
     "output_type": "stream",
     "text": [
      "+-----------+\n",
      "|Average_Age|\n",
      "+-----------+\n",
      "|      26.25|\n",
      "+-----------+\n",
      "\n"
     ]
    }
   ],
   "source": [
    "spark.sql(\"Select AVG(Age) AS Average_Age from people\").show()"
   ]
  },
  {
   "cell_type": "code",
   "execution_count": 32,
   "metadata": {
    "colab": {
     "base_uri": "https://localhost:8080/"
    },
    "id": "PnsXtfzjJGYB",
    "outputId": "1b27b43e-30de-44ab-d95b-95fc5683abe9"
   },
   "outputs": [
    {
     "name": "stdout",
     "output_type": "stream",
     "text": [
      "+-----------+-----+\n",
      "|   Location|Count|\n",
      "+-----------+-----+\n",
      "|Los Angeles|    1|\n",
      "|   New York|    1|\n",
      "|    Chicago|    1|\n",
      "|    Houston|    1|\n",
      "+-----------+-----+\n",
      "\n"
     ]
    }
   ],
   "source": [
    "spark.sql(\"Select Location, Count(*) AS Count from people GROUP BY Location\").show()"
   ]
  },
  {
   "cell_type": "code",
   "execution_count": 33,
   "metadata": {
    "id": "t9mLFAgVJbUm"
   },
   "outputs": [],
   "source": [
    "from pyspark.sql import Row"
   ]
  },
  {
   "cell_type": "code",
   "execution_count": 34,
   "metadata": {
    "colab": {
     "base_uri": "https://localhost:8080/"
    },
    "id": "1Cb-11OcCKIm",
    "outputId": "7782e48f-e2ec-4923-d63b-0d8a39beae69"
   },
   "outputs": [
    {
     "name": "stdout",
     "output_type": "stream",
     "text": [
      "Employee DataFrame:\n",
      "+------+-------+-------+\n",
      "|Emp_ID|   Name|Dept_ID|\n",
      "+------+-------+-------+\n",
      "|     1|  Alice|    101|\n",
      "|     2|    Bob|    102|\n",
      "|     3|Charlie|    103|\n",
      "|     4|  David|   NULL|\n",
      "+------+-------+-------+\n",
      "\n",
      "\n",
      "Department DataFrame:\n",
      "+-------+---------+\n",
      "|Dept_ID|Dept_Name|\n",
      "+-------+---------+\n",
      "|    101|       HR|\n",
      "|    102|       IT|\n",
      "|    104|  Finance|\n",
      "+-------+---------+\n",
      "\n"
     ]
    }
   ],
   "source": [
    "# Employee DataFrame\n",
    "emp_data = [\n",
    "    Row(Emp_ID=1, Name=\"Alice\", Dept_ID=101),\n",
    "    Row(Emp_ID=2, Name=\"Bob\", Dept_ID=102),\n",
    "    Row(Emp_ID=3, Name=\"Charlie\", Dept_ID=103),\n",
    "    Row(Emp_ID=4, Name=\"David\", Dept_ID=None)\n",
    "]\n",
    "\n",
    "emp_df = spark.createDataFrame(emp_data)\n",
    "\n",
    "# Department DataFrame\n",
    "dept_data = [\n",
    "    Row(Dept_ID=101, Dept_Name=\"HR\"),\n",
    "    Row(Dept_ID=102, Dept_Name=\"IT\"),\n",
    "    Row(Dept_ID=104, Dept_Name=\"Finance\")\n",
    "]\n",
    "\n",
    "dept_df = spark.createDataFrame(dept_data)\n",
    "\n",
    "#Show both DataFrames\n",
    "print(\"Employee DataFrame:\")\n",
    "emp_df.show()\n",
    "\n",
    "print(\"\\nDepartment DataFrame:\")\n",
    "dept_df.show()"
   ]
  },
  {
   "cell_type": "code",
   "execution_count": 35,
   "metadata": {
    "colab": {
     "base_uri": "https://localhost:8080/"
    },
    "id": "od1n4zHyC6dH",
    "outputId": "2d5b858d-a587-48ef-debd-a9da4ef03a86"
   },
   "outputs": [
    {
     "name": "stdout",
     "output_type": "stream",
     "text": [
      "+------+-----+-------+-------+---------+\n",
      "|Emp_ID| Name|Dept_ID|Dept_ID|Dept_Name|\n",
      "+------+-----+-------+-------+---------+\n",
      "|     1|Alice|    101|    101|       HR|\n",
      "|     2|  Bob|    102|    102|       IT|\n",
      "+------+-----+-------+-------+---------+\n",
      "\n"
     ]
    }
   ],
   "source": [
    "inner_join = emp_df.join(dept_df, emp_df.Dept_ID == dept_df.Dept_ID, \"inner\")\n",
    "inner_join.show()"
   ]
  },
  {
   "cell_type": "code",
   "execution_count": 36,
   "metadata": {
    "colab": {
     "base_uri": "https://localhost:8080/"
    },
    "id": "vx_gA_r-DxyV",
    "outputId": "f921b450-ca8c-48d4-e9c2-8ae23c702ad8"
   },
   "outputs": [
    {
     "name": "stdout",
     "output_type": "stream",
     "text": [
      "+------+-------+-------+-------+---------+\n",
      "|Emp_ID|   Name|Dept_ID|Dept_ID|Dept_Name|\n",
      "+------+-------+-------+-------+---------+\n",
      "|     1|  Alice|    101|    101|       HR|\n",
      "|     2|    Bob|    102|    102|       IT|\n",
      "|     4|  David|   NULL|   NULL|     NULL|\n",
      "|     3|Charlie|    103|   NULL|     NULL|\n",
      "+------+-------+-------+-------+---------+\n",
      "\n"
     ]
    }
   ],
   "source": [
    "left_join = emp_df.join(dept_df, emp_df.Dept_ID == dept_df.Dept_ID, \"left\")\n",
    "left_join.show()"
   ]
  },
  {
   "cell_type": "code",
   "execution_count": 37,
   "metadata": {
    "colab": {
     "base_uri": "https://localhost:8080/"
    },
    "id": "j4ww2XY-EDB3",
    "outputId": "149c7f21-eab8-4189-9bd3-da7768209a74"
   },
   "outputs": [
    {
     "name": "stdout",
     "output_type": "stream",
     "text": [
      "+------+-----+-------+-------+---------+\n",
      "|Emp_ID| Name|Dept_ID|Dept_ID|Dept_Name|\n",
      "+------+-----+-------+-------+---------+\n",
      "|     1|Alice|    101|    101|       HR|\n",
      "|  NULL| NULL|   NULL|    104|  Finance|\n",
      "|     2|  Bob|    102|    102|       IT|\n",
      "+------+-----+-------+-------+---------+\n",
      "\n"
     ]
    }
   ],
   "source": [
    "right_join = emp_df.join(dept_df, emp_df.Dept_ID == dept_df.Dept_ID, \"right\")\n",
    "right_join.show()"
   ]
  },
  {
   "cell_type": "code",
   "execution_count": 38,
   "metadata": {
    "colab": {
     "base_uri": "https://localhost:8080/"
    },
    "id": "QZVt2Ni2EZXH",
    "outputId": "ab6ef9f3-f2c3-47f9-909f-9dfdd5993b37"
   },
   "outputs": [
    {
     "name": "stdout",
     "output_type": "stream",
     "text": [
      "+------+-------+-------+-------+---------+\n",
      "|Emp_ID|   Name|Dept_ID|Dept_ID|Dept_Name|\n",
      "+------+-------+-------+-------+---------+\n",
      "|     4|  David|   NULL|   NULL|     NULL|\n",
      "|     1|  Alice|    101|    101|       HR|\n",
      "|     2|    Bob|    102|    102|       IT|\n",
      "|     3|Charlie|    103|   NULL|     NULL|\n",
      "|  NULL|   NULL|   NULL|    104|  Finance|\n",
      "+------+-------+-------+-------+---------+\n",
      "\n"
     ]
    }
   ],
   "source": [
    "full_outer_join = emp_df.join(dept_df, emp_df.Dept_ID == dept_df.Dept_ID, \"Full\")\n",
    "full_outer_join.show()"
   ]
  },
  {
   "cell_type": "code",
   "execution_count": 39,
   "metadata": {
    "colab": {
     "base_uri": "https://localhost:8080/"
    },
    "id": "__9KjIsDJW2Q",
    "outputId": "6cb006df-8239-4cd0-dc98-5fa682fda0fa"
   },
   "outputs": [
    {
     "name": "stdout",
     "output_type": "stream",
     "text": [
      "+--------+----------+------+\n",
      "|Employee|Department|Salary|\n",
      "+--------+----------+------+\n",
      "|   Alice|        HR|  5000|\n",
      "|     Bob|        HR|  4500|\n",
      "| Charlie|        IT|  7000|\n",
      "|   David|        IT|  6000|\n",
      "|    Emma|   Finance|  5500|\n",
      "|   Frank|   Finance|  5200|\n",
      "|   Grace|        HR|  4800|\n",
      "+--------+----------+------+\n",
      "\n"
     ]
    }
   ],
   "source": [
    "from pyspark.sql.window import Window\n",
    "from pyspark.sql.functions import row_number, rank, dense_rank, lag, lead, sum, avg\n",
    "\n",
    "# Sample Data\n",
    "data = [\n",
    "    (\"Alice\", \"HR\", 5000),\n",
    "    (\"Bob\", \"HR\", 4500),\n",
    "    (\"Charlie\", \"IT\", 7000),\n",
    "    (\"David\", \"IT\", 6000),\n",
    "    (\"Emma\", \"Finance\", 5500),\n",
    "    (\"Frank\", \"Finance\", 5200),\n",
    "    (\"Grace\", \"HR\", 4800),\n",
    "]\n",
    "\n",
    "columns = [\"Employee\", \"Department\", \"Salary\"]\n",
    "df = spark.createDataFrame(data, columns)\n",
    "\n",
    "df.show()"
   ]
  },
  {
   "cell_type": "code",
   "execution_count": 46,
   "metadata": {
    "colab": {
     "base_uri": "https://localhost:8080/"
    },
    "id": "LjxVL4w5JqMT",
    "outputId": "78122365-028b-4c00-93d8-95524bf90e06"
   },
   "outputs": [
    {
     "data": {
      "text/plain": [
       "<pyspark.sql.window.WindowSpec at 0x7eef53e4eb10>"
      ]
     },
     "execution_count": 46,
     "metadata": {},
     "output_type": "execute_result"
    }
   ],
   "source": [
    "window_spec = Window.partitionBy(\"Department\").orderBy(\"Salary\")\n",
    "window_spec"
   ]
  },
  {
   "cell_type": "code",
   "execution_count": 47,
   "metadata": {
    "colab": {
     "base_uri": "https://localhost:8080/"
    },
    "id": "49R1VqKtJnee",
    "outputId": "9ff19f75-0166-4fb3-88b3-1fcd8ca8a59a"
   },
   "outputs": [
    {
     "name": "stdout",
     "output_type": "stream",
     "text": [
      "+--------+----------+------+----------+\n",
      "|Employee|Department|Salary|Row Number|\n",
      "+--------+----------+------+----------+\n",
      "|   Frank|   Finance|  5200|         1|\n",
      "|    Emma|   Finance|  5500|         2|\n",
      "|     Bob|        HR|  4500|         1|\n",
      "|   Grace|        HR|  4800|         2|\n",
      "|   Alice|        HR|  5000|         3|\n",
      "|   David|        IT|  6000|         1|\n",
      "| Charlie|        IT|  7000|         2|\n",
      "+--------+----------+------+----------+\n",
      "\n"
     ]
    }
   ],
   "source": [
    "df.withColumn(\"Row Number\", row_number().over(window_spec)).show()"
   ]
  }
 ],
 "metadata": {
  "colab": {
   "provenance": []
  },
  "kernelspec": {
   "display_name": "Python 3 (ipykernel)",
   "language": "python",
   "name": "python3"
  },
  "language_info": {
   "codemirror_mode": {
    "name": "ipython",
    "version": 3
   },
   "file_extension": ".py",
   "mimetype": "text/x-python",
   "name": "python",
   "nbconvert_exporter": "python",
   "pygments_lexer": "ipython3",
   "version": "3.12.4"
  }
 },
 "nbformat": 4,
 "nbformat_minor": 4
}
